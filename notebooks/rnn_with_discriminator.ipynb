{
 "cells": [
  {
   "cell_type": "code",
   "execution_count": 3,
   "metadata": {
    "collapsed": false
   },
   "outputs": [],
   "source": [
    "import tensorflow as tf\n",
    "from tensorflow.contrib.rnn import MultiRNNCell, LSTMCell\n",
    "import numpy as np\n",
    "from collections import Counter"
   ]
  },
  {
   "cell_type": "code",
   "execution_count": 8,
   "metadata": {
    "collapsed": false
   },
   "outputs": [],
   "source": [
    "tf.reset_default_graph()\n",
    "batch_size = 1\n",
    "learning_rate = .1\n",
    "max_grad_norm = 5.\n",
    "seq_len = 100\n",
    "rnn_1 = LSTMCell(96)\n",
    "#rnn_2 = LSTMCell(96, name='encsecond', reuse=True)\n",
    "#encoder = tf.contrib.rnn.MultiRNNCell([rnn_1, rnn_2])\n",
    "#rnn_3 = tf.contrib.rnn.BasicLSTMCell(96, state_is_tuple=True)\n",
    "#rnn_4 = rnn_cell(96, state_is_tuple=True)\n",
    "#decoder = tf.contrib.rnn.MultiRNNCell([rnn_3, rnn_4])\n",
    "mlp_vars = {\n",
    "    var.name[:var.name.find(':')]: var for var in (tf.get_variable(name='W1', dtype=tf.float32, shape=(96, 64)),\n",
    "                              tf.get_variable(name='b1', dtype=tf.float32, shape=(64,)),\n",
    "                              tf.get_variable(name='W2', dtype=tf.float32, shape=(64, 32)),\n",
    "                              tf.get_variable(name='b2', dtype=tf.float32, shape=(32,)),\n",
    "                              tf.get_variable(name='W3', dtype=tf.float32, shape=(32, 1)),\n",
    "                              tf.get_variable(name='b3', dtype=tf.float32, shape=(1,)) )\n",
    "}\n",
    "\n",
    "\n",
    "def discriminator(z):\n",
    "    h1 = tf.sigmoid(tf.add(tf.matmul(z, mlp_vars['W1']), mlp_vars['b1']))\n",
    "    h2 = tf.sigmoid(tf.add(tf.matmul(h1, mlp_vars['W2']), mlp_vars['b2']))\n",
    "    is_simple_prob = tf.sigmoid(tf.add(tf.matmul(mlp_vars['W3'], h2), mlp_vars['b3']))\n",
    "    return is_simple_prob\n",
    "\n",
    "x = tf.placeholder(dtype=tf.float32, name='x', shape=[batch_size, seq_len])\n",
    "cl = tf.placeholder(dtype=tf.float32, name='cl', shape=[batch_size, 1])\n",
    "z, _ = rnn_1(x, (tf.zeros((batch_size, 96)), tf.zeros((batch_size, 96))))\n",
    "#y, _ = rnn_3(z, (tf.zeros((batch_size, 96)), tf.zeros((batch_size, 96))))\n",
    "p = discriminator(z)\n",
    "#err_r = tf.squared_difference(x, y)\n",
    "err_d = tf.squared_difference(cl, p)\n",
    "#err = err_r - err_d\n",
    "\n",
    "#params = tf.trainable_variables()\n",
    "#opt = tf.train.GradientDescentOptimizer(learning_rate)\n",
    "#gradients = tf.gradients(err_d, params)\n",
    "#clipped_gradients, norm = tf.clip_by_global_norm(gradients, clip_norm=max_grad_norm)\n",
    "##gradient_norm = norm\n",
    "#update = opt.apply_gradients(grads_and_vars=zip(clipped_gradients, params), global_step=0)\n",
    "#saver = tf.train.Saver(tf.global_variables())\n",
    "\n",
    "\n",
    "def step(session, x_in, tpe):\n",
    "    feed_dict = {\n",
    "        'x': x_in,\n",
    "        'cl': tpe\n",
    "    }\n",
    "    session.run(session, feed_dict=feed_dict)"
   ]
  },
  {
   "cell_type": "code",
   "execution_count": null,
   "metadata": {
    "collapsed": false
   },
   "outputs": [],
   "source": [
    "session = tf.Session()"
   ]
  },
  {
   "cell_type": "code",
   "execution_count": null,
   "metadata": {
    "collapsed": false
   },
   "outputs": [],
   "source": [
    "data = np.load('../bin_data/wiki/paired_array_normal_simple.npy')"
   ]
  },
  {
   "cell_type": "code",
   "execution_count": null,
   "metadata": {
    "collapsed": false
   },
   "outputs": [],
   "source": [
    "lset = []\n",
    "for normal, simple in data.T:\n",
    "    if len(normal) < seq_len and len(simple) < seq_len:\n",
    "        pass"
   ]
  },
  {
   "cell_type": "code",
   "execution_count": null,
   "metadata": {
    "collapsed": false
   },
   "outputs": [],
   "source": [
    "?encoder"
   ]
  },
  {
   "cell_type": "code",
   "execution_count": null,
   "metadata": {
    "collapsed": true
   },
   "outputs": [],
   "source": [
    "?tf.variable_scope"
   ]
  }
 ],
 "metadata": {
  "kernelspec": {
   "display_name": "Python 3",
   "language": "python",
   "name": "python3"
  },
  "language_info": {
   "codemirror_mode": {
    "name": "ipython",
    "version": 3
   },
   "file_extension": ".py",
   "mimetype": "text/x-python",
   "name": "python",
   "nbconvert_exporter": "python",
   "pygments_lexer": "ipython3",
   "version": "3.5.4"
  }
 },
 "nbformat": 4,
 "nbformat_minor": 2
}
