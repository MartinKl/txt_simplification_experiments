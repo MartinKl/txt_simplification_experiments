{
 "cells": [
  {
   "cell_type": "code",
   "execution_count": null,
   "metadata": {
    "collapsed": false
   },
   "outputs": [],
   "source": [
    "import tensorflow as tf\n",
    "from tensorflow.contrib.rnn import LSTMCell, MultiRNNCell\n",
    "import numpy as np"
   ]
  },
  {
   "cell_type": "code",
   "execution_count": null,
   "metadata": {
    "collapsed": false
   },
   "outputs": [],
   "source": [
    "x_s = tf.placeholder(name='x_s', shape=(1, 100), dtype=tf.float32)\n",
    "x_n = tf.placeholder(name='x_n', shape=(1, 100), dtype=tf.float32)\n",
    "\n",
    "encoder = MultiRNNCell([LSTMCell(96, name='encin', reuse=tf.AUTO_REUSE), LSTMCell(96, name='encout', reuse=tf.AUTO_REUSE)])\n",
    "z_s, _ = encoder(x_s, [(tf.zeros((1, 96)), tf.zeros((1, 96))), (tf.zeros((1, 96)), tf.zeros((1, 96)))])\n",
    "z_n, _ = encoder(x_n, [(tf.zeros((1, 96)), tf.zeros((1, 96))), (tf.zeros((1, 96)), tf.zeros((1, 96)))])\n",
    "\n",
    "decoder_s = MultiRNNCell([\n",
    "    LSTMCell(96, name='decinone', reuse=tf.AUTO_REUSE), \n",
    "    LSTMCell(96, name='decoutone', reuse=tf.AUTO_REUSE),\n",
    "    LSTMCell(1000, name='vocaboutone', reuse=tf.AUTO_REUSE)])\n",
    "decoder_n = MultiRNNCell([\n",
    "    LSTMCell(96, name='decintwo', reuse=tf.AUTO_REUSE), \n",
    "    LSTMCell(96, name='decouttwo', reuse=tf.AUTO_REUSE),\n",
    "    LSTMCell(1000, name='vocabouttwo', reuse=tf.AUTO_REUSE)])\n",
    "\n",
    "xlogits_s,_= decoder_s(z_s, [(tf.zeros((1, 96)), tf.zeros((1, 96))), (tf.zeros((1, 96)), tf.zeros((1, 96))),(tf.zeros((1, 1000)), tf.zeros((1, 1000)))])\n",
    "xlogits_n,_= decoder_n(z_n, [(tf.zeros((1, 96)), tf.zeros((1, 96))), (tf.zeros((1, 96)), tf.zeros((1, 96))),(tf.zeros((1, 1000)), tf.zeros((1, 1000)))])"
   ]
  },
  {
   "cell_type": "code",
   "execution_count": null,
   "metadata": {
    "collapsed": false
   },
   "outputs": [],
   "source": [
    "## representation error\n",
    "error_z = tf.squared_difference(z_n,z_s)\n",
    "sumerror_z = tf.reduce_sum(error_z)"
   ]
  },
  {
   "cell_type": "code",
   "execution_count": null,
   "metadata": {
    "collapsed": false
   },
   "outputs": [],
   "source": [
    "z_params = tf.trainable_variables(scope='encoder')\n",
    "z_optimizer = tf.train.GradientDescentOptimizer(.1)\n",
    "z_gradients = tf.gradients(sumerror_z, z_params)\n",
    "clipped_gradients, norm = tf.clip_by_global_norm(z_gradients, clip_norm=5.)\n",
    "update_z = z_optimizer.apply_gradients(grads_and_vars=zip(clipped_gradients, z_params))"
   ]
  },
  {
   "cell_type": "code",
   "execution_count": null,
   "metadata": {
    "collapsed": false
   },
   "outputs": [],
   "source": []
  }
 ],
 "metadata": {
  "kernelspec": {
   "display_name": "Python 3",
   "language": "python",
   "name": "python3"
  },
  "language_info": {
   "codemirror_mode": {
    "name": "ipython",
    "version": 3
   },
   "file_extension": ".py",
   "mimetype": "text/x-python",
   "name": "python",
   "nbconvert_exporter": "python",
   "pygments_lexer": "ipython3",
   "version": "3.5.4"
  }
 },
 "nbformat": 4,
 "nbformat_minor": 2
}
