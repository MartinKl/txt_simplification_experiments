{
 "cells": [
  {
   "cell_type": "code",
   "execution_count": 1,
   "metadata": {
    "collapsed": false
   },
   "outputs": [
    {
     "name": "stdout",
     "output_type": "stream",
     "text": [
      "WARNING:tensorflow:From /usr/local/lib/python3.4/dist-packages/tensorflow/contrib/learn/python/learn/datasets/base.py:198: retry (from tensorflow.contrib.learn.python.learn.datasets.base) is deprecated and will be removed in a future version.\n",
      "Instructions for updating:\n",
      "Use the retry module or similar alternatives.\n"
     ]
    }
   ],
   "source": [
    "import tensorflow as tf\n",
    "from tensorflow.contrib.rnn import LSTMCell, MultiRNNCell\n",
    "import numpy as np"
   ]
  },
  {
   "cell_type": "code",
   "execution_count": 2,
   "metadata": {
    "collapsed": false
   },
   "outputs": [],
   "source": [
    "x_s = tf.placeholder(name='x_s', shape=(1, 100), dtype=tf.float32)\n",
    "x_n = tf.placeholder(name='x_n', shape=(1, 100), dtype=tf.float32)\n",
    "\n",
    "with tf.variable_scope('encoder'):\n",
    "    encoder = MultiRNNCell([LSTMCell(96, name='encin', reuse=tf.AUTO_REUSE), LSTMCell(96, name='encout', reuse=tf.AUTO_REUSE)])\n",
    "    z_s, _ = encoder(x_s, [(tf.zeros((1, 96)), tf.zeros((1, 96))), (tf.zeros((1, 96)), tf.zeros((1, 96)))])\n",
    "    z_n, _ = encoder(x_n, [(tf.zeros((1, 96)), tf.zeros((1, 96))), (tf.zeros((1, 96)), tf.zeros((1, 96)))])\n",
    "\n",
    "\n",
    "decoder_s = MultiRNNCell([\n",
    "    LSTMCell(96, name='decinone', reuse=tf.AUTO_REUSE), \n",
    "    LSTMCell(96, name='decoutone', reuse=tf.AUTO_REUSE),\n",
    "    LSTMCell(1000, name='vocaboutone', reuse=tf.AUTO_REUSE)])\n",
    "decoder_n = MultiRNNCell([\n",
    "    LSTMCell(96, name='decintwo', reuse=tf.AUTO_REUSE), \n",
    "    LSTMCell(96, name='decouttwo', reuse=tf.AUTO_REUSE),\n",
    "    LSTMCell(1000, name='vocabouttwo', reuse=tf.AUTO_REUSE)])\n",
    "\n",
    "xlogits_s,_= decoder_s(z_s, [(tf.zeros((1, 96)), tf.zeros((1, 96))), (tf.zeros((1, 96)), tf.zeros((1, 96))),(tf.zeros((1, 1000)), tf.zeros((1, 1000)))])\n",
    "xlogits_n,_= decoder_n(z_n, [(tf.zeros((1, 96)), tf.zeros((1, 96))), (tf.zeros((1, 96)), tf.zeros((1, 96))),(tf.zeros((1, 1000)), tf.zeros((1, 1000)))])"
   ]
  },
  {
   "cell_type": "code",
   "execution_count": 3,
   "metadata": {
    "collapsed": false
   },
   "outputs": [],
   "source": [
    "## representation error\n",
    "error_z = tf.squared_difference(z_n,z_s)\n",
    "sumerror_z = tf.reduce_sum(error_z)"
   ]
  },
  {
   "cell_type": "code",
   "execution_count": 12,
   "metadata": {
    "collapsed": false
   },
   "outputs": [],
   "source": [
    "z_params = tf.trainable_variables(scope='encoder')\n",
    "z_optimizer = tf.train.GradientDescentOptimizer(.1)\n",
    "z_gradients = tf.gradients(sumerror_z, z_params)\n",
    "clipped_gradients, norm = tf.clip_by_global_norm(z_gradients, clip_norm=5.)\n",
    "update_z = z_optimizer.apply_gradients(grads_and_vars=zip(clipped_gradients, z_params))"
   ]
  },
  {
   "cell_type": "code",
   "execution_count": 10,
   "metadata": {
    "collapsed": false
   },
   "outputs": [],
   "source": []
  }
 ],
 "metadata": {
  "kernelspec": {
   "display_name": "Python 3",
   "language": "python",
   "name": "python3"
  },
  "language_info": {
   "codemirror_mode": {
    "name": "ipython",
    "version": 3
   },
   "file_extension": ".py",
   "mimetype": "text/x-python",
   "name": "python",
   "nbconvert_exporter": "python",
   "pygments_lexer": "ipython3",
   "version": "3.4.3"
  }
 },
 "nbformat": 4,
 "nbformat_minor": 2
}
